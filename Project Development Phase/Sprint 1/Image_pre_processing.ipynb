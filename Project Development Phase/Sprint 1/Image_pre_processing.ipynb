{
  "nbformat": 4,
  "nbformat_minor": 0,
  "metadata": {
    "colab": {
      "provenance": [],
      "collapsed_sections": []
    },
    "kernelspec": {
      "name": "python3",
      "display_name": "Python 3"
    },
    "language_info": {
      "name": "python"
    }
  },
  "cells": [
    {
      "cell_type": "code",
      "execution_count": null,
      "metadata": {
        "id": "qdRaZqrzx2VB"
      },
      "outputs": [],
      "source": [
        "cd /content/drive/MyDrive/IBM"
      ]
    },
    {
      "cell_type": "code",
      "source": [
        "!unzip /content/drive/MyDrive/IBM/body-20221110T085923Z-001.zip\n"
      ],
      "metadata": {
        "id": "0C8gsoVG0Eke"
      },
      "execution_count": null,
      "outputs": []
    },
    {
      "cell_type": "code",
      "source": [],
      "metadata": {
        "id": "jakExwshAX1x"
      },
      "execution_count": null,
      "outputs": []
    },
    {
      "cell_type": "code",
      "source": [
        "!unzip /content/drive/MyDrive/IBM/level-20221110T085928Z-001.zip"
      ],
      "metadata": {
        "id": "Dn82eRmB0Tgr"
      },
      "execution_count": null,
      "outputs": []
    },
    {
      "cell_type": "code",
      "source": [
        "#import image datagenerater library\n",
        "from tensorflow.keras.preprocessing.image import ImageDataGenerator"
      ],
      "metadata": {
        "id": "BoFmmFjz0g_j"
      },
      "execution_count": null,
      "outputs": []
    },
    {
      "cell_type": "code",
      "source": [
        "\n",
        "train_datagen=ImageDataGenerator(rescale=1./255,\n",
        "                                 shear_range=0.1,\n",
        "                                 zoom_range=0.1,\n",
        "                                 horizontal_flip=True)\n",
        "val_datagen=ImageDataGenerator(rescale=1./255)"
      ],
      "metadata": {
        "id": "TrGjiYKa17YC"
      },
      "execution_count": null,
      "outputs": []
    },
    {
      "cell_type": "code",
      "source": [
        "training_set=train_datagen.flow_from_directory(\"/content/drive/MyDrive/IBM/body/training\",target_size=(224,224),batch_size=10,class_mode='categorical')\n",
        "                                              "
      ],
      "metadata": {
        "id": "Ftv3gj2g8_N1"
      },
      "execution_count": null,
      "outputs": []
    },
    {
      "cell_type": "code",
      "source": [
        "test_set=val_datagen.flow_from_directory(\"/content/drive/MyDrive/IBM/body/validation\",target_size=(224,224),batch_size=10,class_mode='categorical')"
      ],
      "metadata": {
        "id": "4qkADSiP_ozh"
      },
      "execution_count": null,
      "outputs": []
    },
    {
      "cell_type": "code",
      "source": [
        "training_set=train_datagen.flow_from_directory(\"/content/drive/MyDrive/IBM/level/training\",target_size=(224,224),batch_size=10,class_mode='categorical')"
      ],
      "metadata": {
        "id": "LvNiUDF0Cs4E"
      },
      "execution_count": null,
      "outputs": []
    },
    {
      "cell_type": "code",
      "source": [
        "test_set=val_datagen.flow_from_directory(\"/content/drive/MyDrive/IBM/level/validation\",target_size=(224,224),batch_size=10,class_mode='categorical')"
      ],
      "metadata": {
        "id": "QQc6idfbDold"
      },
      "execution_count": null,
      "outputs": []
    }
  ]
}